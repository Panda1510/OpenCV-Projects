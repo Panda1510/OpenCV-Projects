{
 "cells": [
  {
   "cell_type": "code",
   "execution_count": 4,
   "id": "9ea14f02",
   "metadata": {},
   "outputs": [
    {
     "name": "stdout",
     "output_type": "stream",
     "text": [
      "Requirement already satisfied: mediapipe in d:\\anaconda3\\lib\\site-packages (0.8.5)\n",
      "Requirement already satisfied: opencv-python in d:\\anaconda3\\lib\\site-packages (4.5.2.52)\n",
      "Requirement already satisfied: opencv-contrib-python in d:\\anaconda3\\lib\\site-packages (from mediapipe) (4.5.2.52)\n",
      "Requirement already satisfied: wheel in d:\\anaconda3\\lib\\site-packages (from mediapipe) (0.36.2)\n",
      "Requirement already satisfied: six in c:\\users\\arkyy\\appdata\\roaming\\python\\python38\\site-packages (from mediapipe) (1.13.0)\n",
      "Requirement already satisfied: absl-py in d:\\anaconda3\\lib\\site-packages (from mediapipe) (0.12.0)\n",
      "Requirement already satisfied: protobuf>=3.11.4 in c:\\users\\arkyy\\appdata\\roaming\\python\\python38\\site-packages (from mediapipe) (3.13.0)\n",
      "Requirement already satisfied: numpy in c:\\users\\arkyy\\appdata\\roaming\\python\\python38\\site-packages (from mediapipe) (1.19.2)\n",
      "Requirement already satisfied: attrs>=19.1.0 in d:\\anaconda3\\lib\\site-packages (from mediapipe) (20.3.0)\n",
      "Requirement already satisfied: setuptools in d:\\anaconda3\\lib\\site-packages (from protobuf>=3.11.4->mediapipe) (52.0.0.post20210125)\n"
     ]
    }
   ],
   "source": [
    "!pip install mediapipe opencv-python"
   ]
  },
  {
   "cell_type": "code",
   "execution_count": 1,
   "id": "055aea1a",
   "metadata": {},
   "outputs": [],
   "source": [
    "import mediapipe as mp\n",
    "import cv2 \n",
    "import numpy as np\n",
    "import uuid\n",
    "import os"
   ]
  },
  {
   "cell_type": "code",
   "execution_count": 2,
   "id": "f6747237",
   "metadata": {},
   "outputs": [],
   "source": [
    "mp_drawing = mp.solutions.drawing_utils\n",
    "mp_hands = mp.solutions.hands"
   ]
  },
  {
   "cell_type": "markdown",
   "id": "f43a1c21",
   "metadata": {},
   "source": [
    "## RUN THE BELOW BLOCK FOR DEMO"
   ]
  },
  {
   "cell_type": "code",
   "execution_count": 17,
   "id": "a0168cee",
   "metadata": {},
   "outputs": [],
   "source": [
    "cap = cv2.VideoCapture(0)\n",
    "\n",
    "with mp_hands.Hands(min_detection_confidence = 0.8, min_tracking_confidence = 0.5) as hands: #for detecting and tracking the hand\n",
    "    while cap.isOpened():\n",
    "        ret, frame = cap.read() # frame -> image\n",
    "    \n",
    "        #Detections:\n",
    "        \n",
    "        #BGR 2 RGB\n",
    "        image = cv2.cvtColor(frame, cv2.COLOR_BGR2RGB) #recoloring the frame or image from BGR to RGB, because the mediapipe req it to be in RGB\n",
    "        \n",
    "        #flipping function, for flip the image on the horizontal\n",
    "        image = cv2.flip(image, 1)\n",
    "        \n",
    "        #Set flag to false\n",
    "        image.flags.writeable = False\n",
    "        \n",
    "        #Detections\n",
    "        results = hands.process(image)\n",
    "        \n",
    "        #set flag to true \n",
    "        image.flags.writeable = True\n",
    "        \n",
    "        #RGB 2 BGR \n",
    "        image = cv2.cvtColor(image, cv2.COLOR_RGB2BGR)\n",
    "        \n",
    "        #See the detections\n",
    "#         print(results) #so we are getting the results as we can see the strings \n",
    "        \n",
    "        #Now let's render our results\n",
    "        if(results.multi_hand_landmarks):\n",
    "            for num, hand in enumerate(results.multi_hand_landmarks):\n",
    "                mp_drawing.draw_landmarks(image, hand, mp_hands.HAND_CONNECTIONS, \n",
    "                                          mp_drawing.DrawingSpec(color = (121, 22, 76), thickness = 2, circle_radius = 4),\n",
    "                                          mp_drawing.DrawingSpec(color = (250, 44, 250), thickness = 2, circle_radius = 2)\n",
    "                                         )\n",
    "        \n",
    "        cv2.imshow('Hand Tracking', image)\n",
    "\n",
    "        if cv2.waitKey(10) & 0xFF == ord('q'):\n",
    "            break\n",
    "\n",
    "cap.release()\n",
    "cv2.destroyAllWindows()"
   ]
  },
  {
   "cell_type": "code",
   "execution_count": 18,
   "id": "6182e361",
   "metadata": {},
   "outputs": [],
   "source": [
    "os.mkdir('Output Images')"
   ]
  },
  {
   "cell_type": "markdown",
   "id": "bb1f17b7",
   "metadata": {},
   "source": [
    "## RUN THE BELOW BLOCK, FOR SAVING THE FRAMES ONTO PC"
   ]
  },
  {
   "cell_type": "code",
   "execution_count": null,
   "id": "389c72d7",
   "metadata": {},
   "outputs": [],
   "source": [
    "cap = cv2.VideoCapture(0)\n",
    "\n",
    "with mp_hands.Hands(min_detection_confidence = 0.8, min_tracking_confidence = 0.5) as hands: #for detecting and tracking the hand\n",
    "    while cap.isOpened():\n",
    "        ret, frame = cap.read() # frame -> image\n",
    "    \n",
    "        #Detections:\n",
    "        \n",
    "        #BGR 2 RGB\n",
    "        image = cv2.cvtColor(frame, cv2.COLOR_BGR2RGB) #recoloring the frame or image from BGR to RGB, because the mediapipe req it to be in RGB\n",
    "        \n",
    "        #flipping function, for flip the image on the horizontal\n",
    "        image = cv2.flip(image, 1)\n",
    "        \n",
    "        #Set flag to false\n",
    "        image.flags.writeable = False\n",
    "        \n",
    "        #Detections\n",
    "        results = hands.process(image)\n",
    "        \n",
    "        #set flag to true \n",
    "        image.flags.writeable = True\n",
    "        \n",
    "        #RGB 2 BGR \n",
    "        image = cv2.cvtColor(image, cv2.COLOR_RGB2BGR)\n",
    "        \n",
    "        #See the detections\n",
    "#         print(results) #so we are getting the results as we can see the strings \n",
    "        \n",
    "        #Now let's render our results\n",
    "        if(results.multi_hand_landmarks):\n",
    "            for num, hand in enumerate(results.multi_hand_landmarks):\n",
    "                mp_drawing.draw_landmarks(image, hand, mp_hands.HAND_CONNECTIONS, \n",
    "                                          mp_drawing.DrawingSpec(color = (121, 22, 76), thickness = 2, circle_radius = 4),\n",
    "                                          mp_drawing.DrawingSpec(color = (250, 44, 250), thickness = 2, circle_radius = 2)\n",
    "                                         )\n",
    "        \n",
    "        #For saving the images \n",
    "        cv2.imwrite(os.path.join('Output Images', '{}.jpg'.format(uuid.uuid1())), image) \n",
    "        cv2.imshow('Hand Tracking', image)\n",
    "\n",
    "        if cv2.waitKey(10) & 0xFF == ord('q'):\n",
    "            break\n",
    "\n",
    "cap.release()\n",
    "cv2.destroyAllWindows()"
   ]
  }
 ],
 "metadata": {
  "kernelspec": {
   "display_name": "Python 3",
   "language": "python",
   "name": "python3"
  },
  "language_info": {
   "codemirror_mode": {
    "name": "ipython",
    "version": 3
   },
   "file_extension": ".py",
   "mimetype": "text/x-python",
   "name": "python",
   "nbconvert_exporter": "python",
   "pygments_lexer": "ipython3",
   "version": "3.8.8"
  }
 },
 "nbformat": 4,
 "nbformat_minor": 5
}
